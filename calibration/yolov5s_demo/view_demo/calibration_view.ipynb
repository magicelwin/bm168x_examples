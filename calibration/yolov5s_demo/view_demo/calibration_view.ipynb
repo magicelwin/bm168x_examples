{
 "cells": [
  {
   "cell_type": "markdown",
   "metadata": {},
   "source": [
    "## calibration visulize tools\n",
    "* usage: \n",
    "```python\n",
    "import analysis\n",
    "args_ = ['-fm', 'path/to/fp32/prototxt',\n",
    "         '-fw', 'path/to/fp32umodel',\n",
    "         '-im', 'path/to/int8/prototxt',\n",
    "         '-iw', 'path/to/int8umodel']\n",
    "test_n = analysis.calibration_visual(args_)\n",
    "test_n.run()\n",
    "test_n.show_widgets()\n",
    "```\n",
    "* MAPE(Mean Abusolute Percentage Error) COS (Cosine Similarity) DIST (\n",
    "Euclidean distance):\n",
    "$$\n",
    "\\\\{MAPE} = \\frac{1}{n}\\left( \\sum_{i=1}^n \\frac{|Actual_i - Forecast_i|}{|Actual_i|} \\right)*100\n",
    "\\\\{COS}=0.5+0.5*\\frac{\\sum_{i=1}^n{A_i*B_i}}{\\sqrt{\\sum_{i=1}^n{A_i^2}}\\sqrt{\\sum_{i=1}^n{B_i^2}}}\n",
    "\\\\{DIST}=\\frac{1}{1+\\sqrt{\\sum_{i=1}^n{\\left(A_i-B_i\\right)}^2}}\n",
    "$$"
   ]
  },
  {
   "cell_type": "code",
   "execution_count": null,
   "metadata": {
    "autoscroll": false,
    "ein.hycell": false,
    "ein.tags": "worksheet-0",
    "slideshow": {
     "slide_type": "-"
    }
   },
   "outputs": [],
   "source": [
    "import ufw.tools.analysis.analysis as analysis\n",
    "test_args = ['-fm',\n",
    "            '../auto_cali_demo/yolov5s_bmnetp_test_fp32_unique_top.prototxt',\n",
    "            '-fw',\n",
    "            '../auto_cali_demo/yolov5s_bmnetp.fp32umodel',\n",
    "            '-im',\n",
    "            '../auto_cali_demo/yolov5s_bmnetp_test_int8_unique_top.prototxt',\n",
    "            '-iw',\n",
    "            '../auto_cali_demo/yolov5s_bmnetp.int8umodel']\n",
    "test_n = analysis.calibration_visual(test_args)\n",
    "test_n.run()\n",
    "test_n.show_widgets()"
   ]
  }
 ],
 "metadata": {
  "kernelspec": {
   "display_name": "Python 3",
   "language": "python",
   "name": "python3"
  },
  "language_info": {
   "codemirror_mode": {
    "name": "ipython",
    "version": 3
   },
   "file_extension": ".py",
   "mimetype": "text/x-python",
   "name": "python",
   "nbconvert_exporter": "python",
   "pygments_lexer": "ipython3",
   "version": "3.5.2"
  },
  "name": "calibration_view.ipynb"
 },
 "nbformat": 4,
 "nbformat_minor": 2
}
